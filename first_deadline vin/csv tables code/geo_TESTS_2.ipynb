{
 "cells": [
  {
   "cell_type": "markdown",
   "metadata": {},
   "source": [
    "# TEST IF IT WORKS BY TAKING THE CLOSEST POINT AND BY PRINTING LL THE POLICE ROWS (USELESS BUT GPT)"
   ]
  },
  {
   "cell_type": "code",
   "execution_count": null,
   "metadata": {},
   "outputs": [],
   "source": [
    "import csv\n",
    "import math\n",
    "\n",
    "def calculate_distance(lat1, lon1, lat2, lon2):\n",
    "    # Haversine formula to calculate distance between two points on the earth\n",
    "    R = 6371  # Radius of the earth in km\n",
    "    dLat = math.radians(lat2 - lat1)\n",
    "    dLon = math.radians(lon2 - lon1)\n",
    "    a = (math.sin(dLat / 2) * math.sin(dLat / 2) +\n",
    "         math.cos(math.radians(lat1)) * math.cos(math.radians(lat2)) *\n",
    "         math.sin(dLon / 2) * math.sin(dLon / 2))\n",
    "    c = 2 * math.atan2(math.sqrt(a), math.sqrt(1 - a))\n",
    "    distance = R * c\n",
    "    return distance\n",
    "\n",
    "# Read geography data\n",
    "geography_data = []\n",
    "with open(r'C:\\Users\\Vincenzo\\Projects\\LDS_Project_23-24\\DATA\\geography.csv', 'r') as file:\n",
    "    reader = csv.reader(file)\n",
    "    next(reader)  # Skip header row\n",
    "    for row in reader:\n",
    "        geography_data.append(row)\n",
    "\n",
    "# Process police data and write to a new file\n",
    "with open(r'C:\\Users\\Vincenzo\\Projects\\LDS_Project_23-24\\DATA\\Police.csv', 'r') as file, open(r'C:\\Users\\Vincenzo\\Projects\\LDS_Project_23-24\\DATA\\custody_TEST_2.csv', 'w', newline='') as outfile:\n",
    "    reader = csv.reader(file)\n",
    "    writer = csv.writer(outfile)\n",
    "    \n",
    "    header = next(reader)\n",
    "    header.append('GeographyID')\n",
    "    writer.writerow(header)  # Write header to output file\n",
    "    \n",
    "    for row in reader:\n",
    "        lat, lon = float(row[5]), float(row[6])  # Assuming latitude and longitude are at these indices\n",
    "\n",
    "        # Find the closest geography entry\n",
    "        min_distance = float('inf')\n",
    "        closest_geo_id = None\n",
    "        for geo_row in geography_data:\n",
    "            geo_id, geo_lat, geo_lon = geo_row[0], float(geo_row[1]), float(geo_row[2])\n",
    "            distance = calculate_distance(lat, lon, geo_lat, geo_lon)\n",
    "            if distance < min_distance:\n",
    "                min_distance = distance\n",
    "                closest_geo_id = geo_id\n",
    "\n",
    "        row.append(closest_geo_id)\n",
    "        writer.writerow(row)\n"
   ]
  },
  {
   "cell_type": "markdown",
   "metadata": {},
   "source": [
    "# TEST IF IT WORKS WITHOUT CLOSEST ONE"
   ]
  },
  {
   "cell_type": "code",
   "execution_count": 3,
   "metadata": {},
   "outputs": [],
   "source": [
    "import csv\n",
    "\n",
    "# Read geography data and create a dictionary for lookup\n",
    "geography_dict = {}\n",
    "with open(r'C:\\Users\\Vincenzo\\Projects\\LDS_Project_23-24\\DATA\\geography.csv', 'r') as file:\n",
    "    reader = csv.reader(file)\n",
    "    next(reader)  # Skip header row\n",
    "    for row in reader:\n",
    "        # Use latitude and longitude as key\n",
    "        key = (row[1], row[2])  \n",
    "        geography_dict[key] = row[0]\n",
    "\n",
    "# Process police data and write to a new file\n",
    "with open(r'C:\\Users\\Vincenzo\\Projects\\LDS_Project_23-24\\DATA\\Police.csv', 'r') as file, open(r'C:\\Users\\Vincenzo\\Projects\\LDS_Project_23-24\\DATA\\custody_TEST_2.csv', 'w', newline='') as outfile:\n",
    "    reader = csv.reader(file)\n",
    "    writer = csv.writer(outfile)\n",
    "\n",
    "    header = next(reader)\n",
    "    header.append('GeographyID')  # Add new column for GeographyID\n",
    "    writer.writerow(header)\n",
    "\n",
    "    for row in reader:\n",
    "        # Assuming latitude and longitude are at these indices\n",
    "        lat, lon = row[5], row[6] \n",
    "        geo_id = geography_dict.get((lat, lon), 'Unknown')  # Default to 'Unknown' if not found\n",
    "\n",
    "        row.append(geo_id)\n",
    "        writer.writerow(row)"
   ]
  },
  {
   "cell_type": "markdown",
   "metadata": {},
   "source": [
    "# TEST IF IT WORKS BY OINLY PRINTING THE GEOGRAPHY ID AND NOT THE WHOLE ROWS"
   ]
  },
  {
   "cell_type": "code",
   "execution_count": 5,
   "metadata": {},
   "outputs": [
    {
     "name": "stdout",
     "output_type": "stream",
     "text": [
      "Loaded 13603 geography records.\n"
     ]
    },
    {
     "ename": "KeyboardInterrupt",
     "evalue": "",
     "output_type": "error",
     "traceback": [
      "\u001b[1;31m---------------------------------------------------------------------------\u001b[0m",
      "\u001b[1;31mKeyboardInterrupt\u001b[0m                         Traceback (most recent call last)",
      "Cell \u001b[1;32mIn[5], line 46\u001b[0m\n\u001b[0;32m     44\u001b[0m \u001b[38;5;28;01mfor\u001b[39;00m geo_row \u001b[38;5;129;01min\u001b[39;00m geography_data:\n\u001b[0;32m     45\u001b[0m     geo_id, geo_lat, geo_lon \u001b[38;5;241m=\u001b[39m geo_row[\u001b[38;5;241m0\u001b[39m], \u001b[38;5;28mfloat\u001b[39m(geo_row[\u001b[38;5;241m1\u001b[39m]), \u001b[38;5;28mfloat\u001b[39m(geo_row[\u001b[38;5;241m2\u001b[39m])\n\u001b[1;32m---> 46\u001b[0m     distance \u001b[38;5;241m=\u001b[39m \u001b[43mcalculate_distance\u001b[49m\u001b[43m(\u001b[49m\u001b[43mlat\u001b[49m\u001b[43m,\u001b[49m\u001b[43m \u001b[49m\u001b[43mlon\u001b[49m\u001b[43m,\u001b[49m\u001b[43m \u001b[49m\u001b[43mgeo_lat\u001b[49m\u001b[43m,\u001b[49m\u001b[43m \u001b[49m\u001b[43mgeo_lon\u001b[49m\u001b[43m)\u001b[49m\n\u001b[0;32m     47\u001b[0m     \u001b[38;5;28;01mif\u001b[39;00m distance \u001b[38;5;241m<\u001b[39m min_distance:\n\u001b[0;32m     48\u001b[0m         min_distance \u001b[38;5;241m=\u001b[39m distance\n",
      "Cell \u001b[1;32mIn[5], line 11\u001b[0m, in \u001b[0;36mcalculate_distance\u001b[1;34m(lat1, lon1, lat2, lon2)\u001b[0m\n\u001b[0;32m      7\u001b[0m dLat \u001b[38;5;241m=\u001b[39m math\u001b[38;5;241m.\u001b[39mradians(lat2 \u001b[38;5;241m-\u001b[39m lat1)\n\u001b[0;32m      8\u001b[0m dLon \u001b[38;5;241m=\u001b[39m math\u001b[38;5;241m.\u001b[39mradians(lon2 \u001b[38;5;241m-\u001b[39m lon1)\n\u001b[0;32m      9\u001b[0m a \u001b[38;5;241m=\u001b[39m (math\u001b[38;5;241m.\u001b[39msin(dLat \u001b[38;5;241m/\u001b[39m \u001b[38;5;241m2\u001b[39m) \u001b[38;5;241m*\u001b[39m math\u001b[38;5;241m.\u001b[39msin(dLat \u001b[38;5;241m/\u001b[39m \u001b[38;5;241m2\u001b[39m) \u001b[38;5;241m+\u001b[39m\n\u001b[0;32m     10\u001b[0m      math\u001b[38;5;241m.\u001b[39mcos(math\u001b[38;5;241m.\u001b[39mradians(lat1)) \u001b[38;5;241m*\u001b[39m math\u001b[38;5;241m.\u001b[39mcos(math\u001b[38;5;241m.\u001b[39mradians(lat2)) \u001b[38;5;241m*\u001b[39m\n\u001b[1;32m---> 11\u001b[0m      \u001b[43mmath\u001b[49m\u001b[38;5;241;43m.\u001b[39;49m\u001b[43msin\u001b[49m\u001b[43m(\u001b[49m\u001b[43mdLon\u001b[49m\u001b[43m \u001b[49m\u001b[38;5;241;43m/\u001b[39;49m\u001b[43m \u001b[49m\u001b[38;5;241;43m2\u001b[39;49m\u001b[43m)\u001b[49m \u001b[38;5;241m*\u001b[39m math\u001b[38;5;241m.\u001b[39msin(dLon \u001b[38;5;241m/\u001b[39m \u001b[38;5;241m2\u001b[39m))\n\u001b[0;32m     12\u001b[0m c \u001b[38;5;241m=\u001b[39m \u001b[38;5;241m2\u001b[39m \u001b[38;5;241m*\u001b[39m math\u001b[38;5;241m.\u001b[39matan2(math\u001b[38;5;241m.\u001b[39msqrt(a), math\u001b[38;5;241m.\u001b[39msqrt(\u001b[38;5;241m1\u001b[39m \u001b[38;5;241m-\u001b[39m a))\n\u001b[0;32m     13\u001b[0m distance \u001b[38;5;241m=\u001b[39m R \u001b[38;5;241m*\u001b[39m c\n",
      "\u001b[1;31mKeyboardInterrupt\u001b[0m: "
     ]
    }
   ],
   "source": [
    "import csv\n",
    "import math\n",
    "\n",
    "def calculate_distance(lat1, lon1, lat2, lon2):\n",
    "    # Haversine formula to calculate the distance between two points on the Earth\n",
    "    R = 6371  # Radius of the Earth in km\n",
    "    dLat = math.radians(lat2 - lat1)\n",
    "    dLon = math.radians(lon2 - lon1)\n",
    "    a = (math.sin(dLat / 2) * math.sin(dLat / 2) +\n",
    "         math.cos(math.radians(lat1)) * math.cos(math.radians(lat2)) *\n",
    "         math.sin(dLon / 2) * math.sin(dLon / 2))\n",
    "    c = 2 * math.atan2(math.sqrt(a), math.sqrt(1 - a))\n",
    "    distance = R * c\n",
    "    return distance\n",
    "\n",
    "# Read geography data\n",
    "geography_data = []\n",
    "with open(r'C:\\Users\\Vincenzo\\Projects\\LDS_Project_23-24\\DATA\\geography.csv', 'r') as file:\n",
    "    reader = csv.reader(file)\n",
    "    next(reader)  # Skip header row\n",
    "    for row in reader:\n",
    "        geography_data.append(row)\n",
    "\n",
    "print(f\"Loaded {len(geography_data)} geography records.\")\n",
    "\n",
    "# Process police data and write only the GeographyID to a new file\n",
    "with open(r'C:\\Users\\Vincenzo\\Projects\\LDS_Project_23-24\\DATA\\Police.csv', 'r') as file, \\\n",
    "     open(r'C:\\Users\\Vincenzo\\Projects\\LDS_Project_23-24\\DATA\\custody_test_2.csv', 'w', newline='') as outfile:\n",
    "\n",
    "    reader = csv.reader(file)\n",
    "    writer = csv.writer(outfile)\n",
    "    \n",
    "    header = ['GeographyID']\n",
    "    writer.writerow(header)  # Write new header to output file\n",
    "    \n",
    "    next(reader)  # Skip the original header\n",
    "    record_count = 0\n",
    "    for row in reader:\n",
    "        lat, lon = float(row[5]), float(row[6])  # Check these indices\n",
    "\n",
    "        # Find the closest geography entry\n",
    "        min_distance = float('inf')\n",
    "        closest_geo_id = None\n",
    "        for geo_row in geography_data:\n",
    "            geo_id, geo_lat, geo_lon = geo_row[0], float(geo_row[1]), float(geo_row[2])\n",
    "            distance = calculate_distance(lat, lon, geo_lat, geo_lon)\n",
    "            if distance < min_distance:\n",
    "                min_distance = distance\n",
    "                closest_geo_id = geo_id\n",
    "\n",
    "        writer.writerow([closest_geo_id])\n",
    "        record_count += 1\n",
    "\n",
    "print(f\"Processed {record_count} police records.\")\n"
   ]
  },
  {
   "cell_type": "code",
   "execution_count": null,
   "metadata": {},
   "outputs": [],
   "source": []
  }
 ],
 "metadata": {
  "kernelspec": {
   "display_name": "lds",
   "language": "python",
   "name": "python3"
  },
  "language_info": {
   "codemirror_mode": {
    "name": "ipython",
    "version": 3
   },
   "file_extension": ".py",
   "mimetype": "text/x-python",
   "name": "python",
   "nbconvert_exporter": "python",
   "pygments_lexer": "ipython3",
   "version": "3.12.1"
  }
 },
 "nbformat": 4,
 "nbformat_minor": 2
}
